{
 "cells": [
  {
   "cell_type": "code",
   "execution_count": 62,
   "metadata": {
    "collapsed": true
   },
   "outputs": [],
   "source": [
    "import pandas as pd\n",
    "import numpy as np\n",
    "#eplus_out_file = \"/home/zhiangz/Documents/HVAC-RL-Control/src/eplus-env/eplus_env/envs/eplus_models/iw_v96/learning/idf/tmy3Weather_base_res/eplusout.csv\";\n",
    "eplus_out_file = '/home/zhiangz/Documents/HVAC-RL-Control/src/iw_ctrl_runs_v2/5/Eplus-env-IW-realWeather-v9603-res1/Eplus-env-sub_run38/output/eplusout.csv'\n",
    "occupant_count_colname = 'EMS:IW Occupy Mode Flag [](TimeStep)'\n",
    "ppd_colname = 'EMS:IW Average PPD [%](TimeStep)'\n",
    "energy_colname = 'EMS:IW Calculated Heating Demand [KW](TimeStep)'\n",
    "stptbylogic_colname = 'EMS:IW Effective IAT Setpoint by Logics [C](TimeStep)'\n",
    "iat_colname = 'EMS:IW North Zone Average Temperature [C](TimeStep)'\n",
    "timestep = 5 # Minutes"
   ]
  },
  {
   "cell_type": "code",
   "execution_count": 63,
   "metadata": {
    "collapsed": true
   },
   "outputs": [],
   "source": [
    "def getFullColname(colnames, tgtname):\n",
    "    for colname in colnames:\n",
    "        if tgtname in colname:\n",
    "            return colname;"
   ]
  },
  {
   "cell_type": "code",
   "execution_count": 64,
   "metadata": {
    "collapsed": true
   },
   "outputs": [],
   "source": [
    "df = pd.read_csv(eplus_out_file)\n",
    "df_colnames = list(df.columns.values)\n",
    "occupant_count_colname = getFullColname(df_colnames, occupant_count_colname)\n",
    "ppd_colname = getFullColname(df_colnames, ppd_colname)\n",
    "energy_colname = getFullColname(df_colnames, energy_colname)\n",
    "stptbylogic_colname = getFullColname(df_colnames, stptbylogic_colname)\n",
    "iat_colname = getFullColname(df_colnames, iat_colname);"
   ]
  },
  {
   "cell_type": "code",
   "execution_count": 65,
   "metadata": {
    "collapsed": true
   },
   "outputs": [],
   "source": [
    "occp_ppd = df[ppd_colname].loc[df[occupant_count_colname] > 0]\n",
    "valid_energy = df[energy_colname].loc[np.isnan(df[energy_colname]) != 1]\n",
    "iat_stpt_diff = df[iat_colname].loc[df[occupant_count_colname] == 0] - df[stptbylogic_colname].loc[df[occupant_count_colname] == 0]"
   ]
  },
  {
   "cell_type": "code",
   "execution_count": 66,
   "metadata": {},
   "outputs": [
    {
     "data": {
      "text/plain": [
       "96       19.566366\n",
       "97       18.296095\n",
       "98       17.142215\n",
       "99       16.047602\n",
       "100      15.326082\n",
       "101      14.952423\n",
       "102      14.638509\n",
       "103      14.340527\n",
       "104      14.056197\n",
       "105      13.706269\n",
       "106      13.293711\n",
       "107      12.782577\n",
       "108      12.292248\n",
       "109      12.177171\n",
       "110      12.137880\n",
       "111      11.990429\n",
       "112      11.806326\n",
       "113      11.616712\n",
       "114      11.432309\n",
       "115      11.241917\n",
       "116      11.046358\n",
       "117      10.859247\n",
       "118      10.678585\n",
       "119      10.536845\n",
       "120      10.393228\n",
       "121      10.071107\n",
       "122       9.567501\n",
       "123       9.211608\n",
       "124       8.940118\n",
       "125       8.688414\n",
       "           ...    \n",
       "25848     5.687243\n",
       "25849     5.726242\n",
       "25850     5.757767\n",
       "25851     5.777191\n",
       "25852     5.794327\n",
       "25853     5.811363\n",
       "25854     5.792811\n",
       "25855     5.781569\n",
       "25856     5.774097\n",
       "25857     5.771459\n",
       "25858     5.770245\n",
       "25859     5.769105\n",
       "25860     5.778105\n",
       "25861     5.787897\n",
       "25862     5.793447\n",
       "25863     5.797610\n",
       "25864     5.802846\n",
       "25865     5.808715\n",
       "25866     5.828472\n",
       "25867     5.847791\n",
       "25868     5.868158\n",
       "25869     5.886870\n",
       "25870     5.904421\n",
       "25871     5.920779\n",
       "25872     5.936033\n",
       "25873     5.949089\n",
       "25874     5.961891\n",
       "25875     5.971867\n",
       "25876     5.980117\n",
       "25877     5.986802\n",
       "Name: EMS:IW Average PPD [%](TimeStep), Length: 13134, dtype: float64"
      ]
     },
     "execution_count": 66,
     "metadata": {},
     "output_type": "execute_result"
    }
   ],
   "source": [
    "occp_ppd"
   ]
  },
  {
   "cell_type": "code",
   "execution_count": 67,
   "metadata": {
    "collapsed": true
   },
   "outputs": [],
   "source": [
    "mean_occp_ppd = np.mean(occp_ppd)\n",
    "std_occp_ppd = np.std(occp_ppd)\n",
    "total_energy = np.sum(valid_energy) * (timestep/60.0)\n",
    "mean_iat_notmet = np.mean(iat_stpt_diff)\n",
    "std_iat_notmet = np.std(iat_stpt_diff);"
   ]
  },
  {
   "cell_type": "code",
   "execution_count": 68,
   "metadata": {},
   "outputs": [
    {
     "name": "stdout",
     "output_type": "stream",
     "text": [
      "Total HVAC energy consumption is 44390 kHW, mean occupied PPD is 8.40%, std occupied PPD is 3.27%, mean IAT not met during unoccupied hour is 1.46, std IAT not met during unoccupied hour is 1.70.\n"
     ]
    }
   ],
   "source": [
    "print ('Total HVAC energy consumption is %d kHW, mean occupied PPD is %0.02f%%, std occupied PPD is %0.02f%%'\\\n",
    "       ', mean IAT not met during unoccupied hour is %0.02f, std IAT not met during unoccupied hour is %0.02f.'\n",
    "      %(total_energy, mean_occp_ppd, std_occp_ppd, mean_iat_notmet, std_iat_notmet))"
   ]
  },
  {
   "cell_type": "code",
   "execution_count": 11,
   "metadata": {},
   "outputs": [
    {
     "data": {
      "text/plain": [
       "(array([5641, 4891, 1846,  455,  196,   85,   87,   93,   25,    7]),\n",
       " array([  5.28402423,   9.32031022,  13.3565962 ,  17.39288219,\n",
       "         21.42916817,  25.46545416,  29.50174014,  33.53802613,\n",
       "         37.57431211,  41.6105981 ,  45.64688409]))"
      ]
     },
     "execution_count": 11,
     "metadata": {},
     "output_type": "execute_result"
    }
   ],
   "source": [
    "np.histogram(occp_ppd)"
   ]
  },
  {
   "cell_type": "code",
   "execution_count": null,
   "metadata": {
    "collapsed": true
   },
   "outputs": [],
   "source": []
  },
  {
   "cell_type": "code",
   "execution_count": null,
   "metadata": {
    "collapsed": true
   },
   "outputs": [],
   "source": []
  }
 ],
 "metadata": {
  "kernelspec": {
   "display_name": "Python 3",
   "language": "python",
   "name": "python3"
  },
  "language_info": {
   "codemirror_mode": {
    "name": "ipython",
    "version": 3
   },
   "file_extension": ".py",
   "mimetype": "text/x-python",
   "name": "python",
   "nbconvert_exporter": "python",
   "pygments_lexer": "ipython3",
   "version": "3.5.3"
  }
 },
 "nbformat": 4,
 "nbformat_minor": 2
}
