{
 "cells": [
  {
   "cell_type": "code",
   "execution_count": 251,
   "metadata": {
    "collapsed": true
   },
   "outputs": [],
   "source": [
    "import pandas as pd\n",
    "import numpy as np\n",
    "#eplus_out_file = \"/home/zhiangz/Documents/HVAC-RL-Control/src/eplus-env/eplus_env/envs/eplus_models/iw_v96/learning/idf/realWeather_base_out/eplusout.csv\";\n",
    "eplus_out_file = '/home/zhiangz/Documents/HVAC-RL-Control/src/iw_ctrl_runs_v2/88/Eplus-env-IW-realWeather-v9706-res1/Eplus-env-sub_run41/output/eplusout.csv'\n",
    "eplus_out_file = '~/Documents/HVAC-RL-Control/src/eplus-env/eplus_env/envs/eplus_models/iw_v96/learning/idf/realWeather_base_bas_out/eplusout.csv'\n",
    "occupant_count_colname = 'EMS:IW Occupy Mode Flag [](TimeStep)'\n",
    "ppd_colname = 'EMS:IW Average PPD [%](TimeStep)'\n",
    "energy_colname = 'EMS:IW Calculated Heating Demand [KW](TimeStep)'\n",
    "stptbylogic_colname = 'EMS:IW Effective IAT Setpoint by Logics [C](TimeStep)'\n",
    "iat_colname = 'EMS:IW North Zone Average Temperature [C](TimeStep)'\n",
    "timestep = 5 # Minutes"
   ]
  },
  {
   "cell_type": "code",
   "execution_count": 252,
   "metadata": {
    "collapsed": true
   },
   "outputs": [],
   "source": [
    "def getFullColname(colnames, tgtname):\n",
    "    for colname in colnames:\n",
    "        if tgtname in colname:\n",
    "            return colname;"
   ]
  },
  {
   "cell_type": "code",
   "execution_count": 253,
   "metadata": {},
   "outputs": [],
   "source": [
    "df = pd.read_csv(eplus_out_file)\n",
    "df_colnames = list(df.columns.values)\n",
    "occupant_count_colname = getFullColname(df_colnames, occupant_count_colname)\n",
    "ppd_colname = getFullColname(df_colnames, ppd_colname)\n",
    "energy_colname = getFullColname(df_colnames, energy_colname)\n",
    "stptbylogic_colname = getFullColname(df_colnames, stptbylogic_colname)\n",
    "iat_colname = getFullColname(df_colnames, iat_colname);"
   ]
  },
  {
   "cell_type": "code",
   "execution_count": 254,
   "metadata": {
    "collapsed": true
   },
   "outputs": [],
   "source": [
    "occp_ppd = df[ppd_colname].loc[df[occupant_count_colname] > 0]\n",
    "valid_energy = df[energy_colname].loc[np.isnan(df[energy_colname]) != 1]\n",
    "iat_stpt_diff = df[iat_colname].loc[df[occupant_count_colname] == 0] - df[stptbylogic_colname].loc[df[occupant_count_colname] == 0]"
   ]
  },
  {
   "cell_type": "code",
   "execution_count": 255,
   "metadata": {
    "collapsed": true
   },
   "outputs": [],
   "source": [
    "mean_occp_ppd = np.mean(occp_ppd)\n",
    "std_occp_ppd = np.std(occp_ppd)\n",
    "total_energy = np.sum(valid_energy) * (timestep/60.0)\n",
    "mean_iat_notmet = np.mean(iat_stpt_diff)\n",
    "std_iat_notmet = np.std(iat_stpt_diff);"
   ]
  },
  {
   "cell_type": "code",
   "execution_count": 256,
   "metadata": {},
   "outputs": [
    {
     "name": "stdout",
     "output_type": "stream",
     "text": [
      "Total HVAC energy consumption is 43709 kHW, mean occupied PPD is 9.46%, std occupied PPD is 5.59%, mean IAT not met during unoccupied hour is 0.50, std IAT not met during unoccupied hour is 1.18.\n"
     ]
    }
   ],
   "source": [
    "print ('Total HVAC energy consumption is %d kHW, mean occupied PPD is %0.02f%%, std occupied PPD is %0.02f%%'\\\n",
    "       ', mean IAT not met during unoccupied hour is %0.02f, std IAT not met during unoccupied hour is %0.02f.'\n",
    "      %(total_energy, mean_occp_ppd, std_occp_ppd, mean_iat_notmet, std_iat_notmet))"
   ]
  },
  {
   "cell_type": "code",
   "execution_count": 257,
   "metadata": {},
   "outputs": [
    {
     "data": {
      "text/plain": [
       "(array([11092,  2524,   883,   334,   237,   136,    40,    24,    20,    32]),\n",
       " array([  5.21069202,  10.02746179,  14.84423156,  19.66100133,\n",
       "         24.47777111,  29.29454088,  34.11131065,  38.92808042,\n",
       "         43.74485019,  48.56161996,  53.37838973]))"
      ]
     },
     "execution_count": 257,
     "metadata": {},
     "output_type": "execute_result"
    }
   ],
   "source": [
    "np.histogram(occp_ppd)"
   ]
  },
  {
   "cell_type": "code",
   "execution_count": null,
   "metadata": {
    "collapsed": true
   },
   "outputs": [],
   "source": []
  },
  {
   "cell_type": "code",
   "execution_count": null,
   "metadata": {
    "collapsed": true
   },
   "outputs": [],
   "source": []
  }
 ],
 "metadata": {
  "kernelspec": {
   "display_name": "Python 3",
   "language": "python",
   "name": "python3"
  },
  "language_info": {
   "codemirror_mode": {
    "name": "ipython",
    "version": 3
   },
   "file_extension": ".py",
   "mimetype": "text/x-python",
   "name": "python",
   "nbconvert_exporter": "python",
   "pygments_lexer": "ipython3",
   "version": "3.5.3"
  }
 },
 "nbformat": 4,
 "nbformat_minor": 2
}
