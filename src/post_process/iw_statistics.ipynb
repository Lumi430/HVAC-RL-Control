{
 "cells": [
  {
   "cell_type": "code",
   "execution_count": 16,
   "metadata": {},
   "outputs": [],
   "source": [
    "import pandas as pd\n",
    "import numpy as np\n",
    "#eplus_out_file = \"/home/zhiangz/Documents/HVAC-RL-Control/src/eplus-env/eplus_env/envs/eplus_models/iw_v96/learning/idf/tmy3Weather_base_res/eplusout.csv\";\n",
    "eplus_out_file = '/home/zhiangz/Documents/HVAC-RL-Control/src/iw_ctrl_runs_v2/6/Eplus-env-IW-tmy3Weather-v9604-res1/Eplus-env-sub_run41/output/eplusout.csv'\n",
    "occupant_count_colname = 'EMS:IW Occupy Mode Flag [](TimeStep)'\n",
    "ppd_colname = 'EMS:IW Average PPD [%](TimeStep)'\n",
    "energy_colname = 'EMS:IW Calculated Heating Demand [KW](TimeStep)'\n",
    "stptbylogic_colname = 'EMS:IW Effective IAT Setpoint by Logics [C](TimeStep)'\n",
    "iat_colname = 'EMS:IW North Zone Average Temperature [C](TimeStep)'\n",
    "timestep = 5 # Minutes"
   ]
  },
  {
   "cell_type": "code",
   "execution_count": 17,
   "metadata": {},
   "outputs": [],
   "source": [
    "def getFullColname(colnames, tgtname):\n",
    "    for colname in colnames:\n",
    "        if tgtname in colname:\n",
    "            return colname;"
   ]
  },
  {
   "cell_type": "code",
   "execution_count": 18,
   "metadata": {},
   "outputs": [],
   "source": [
    "df = pd.read_csv(eplus_out_file)\n",
    "df_colnames = list(df.columns.values)\n",
    "occupant_count_colname = getFullColname(df_colnames, occupant_count_colname)\n",
    "ppd_colname = getFullColname(df_colnames, ppd_colname)\n",
    "energy_colname = getFullColname(df_colnames, energy_colname)\n",
    "stptbylogic_colname = getFullColname(df_colnames, stptbylogic_colname)\n",
    "iat_colname = getFullColname(df_colnames, iat_colname);"
   ]
  },
  {
   "cell_type": "code",
   "execution_count": 19,
   "metadata": {},
   "outputs": [],
   "source": [
    "occp_ppd = df[ppd_colname].loc[df[occupant_count_colname] > 0]\n",
    "valid_energy = df[energy_colname].loc[np.isnan(df[energy_colname]) != 1]\n",
    "iat_stpt_diff = df[iat_colname].loc[df[occupant_count_colname] == 0] - df[stptbylogic_colname].loc[df[occupant_count_colname] == 0]"
   ]
  },
  {
   "cell_type": "code",
   "execution_count": 20,
   "metadata": {},
   "outputs": [
    {
     "data": {
      "text/plain": [
       "96       17.918511\n",
       "97       16.751384\n",
       "98       15.390581\n",
       "99       14.263561\n",
       "100      13.722869\n",
       "101      13.775414\n",
       "102      13.895779\n",
       "103      13.821976\n",
       "104      13.405951\n",
       "105      12.860526\n",
       "106      12.377479\n",
       "107      11.986952\n",
       "108      11.552619\n",
       "109      11.304357\n",
       "110      11.287603\n",
       "111      11.426333\n",
       "112      11.594391\n",
       "113      11.782308\n",
       "114      11.989936\n",
       "115      12.206813\n",
       "116      12.422101\n",
       "117      12.633276\n",
       "118      12.839664\n",
       "119      13.040542\n",
       "120      13.235879\n",
       "121      13.425391\n",
       "122      13.610204\n",
       "123      13.792068\n",
       "124      13.967039\n",
       "125      14.140090\n",
       "           ...    \n",
       "25854     5.369502\n",
       "25855     5.369429\n",
       "25856     5.368402\n",
       "25857     5.367302\n",
       "25858     5.366713\n",
       "25859     5.366579\n",
       "25860     5.369381\n",
       "25861     5.372185\n",
       "25862     5.372798\n",
       "25863     5.372801\n",
       "25864     5.373667\n",
       "25865     5.375130\n",
       "25866     5.378194\n",
       "25867     5.381357\n",
       "25868     5.384340\n",
       "25869     5.387613\n",
       "25870     5.391043\n",
       "25871     5.394591\n",
       "25872     5.397815\n",
       "25873     5.400954\n",
       "25874     5.404212\n",
       "25875     5.407583\n",
       "25876     5.411106\n",
       "25877     5.414768\n",
       "25878     5.418528\n",
       "25879     5.422294\n",
       "25880     5.426324\n",
       "25881     5.430550\n",
       "25882     5.434761\n",
       "25883     5.439261\n",
       "Name: EMS:IW Average PPD [%](TimeStep), Length: 12414, dtype: float64"
      ]
     },
     "execution_count": 20,
     "metadata": {},
     "output_type": "execute_result"
    }
   ],
   "source": [
    "occp_ppd"
   ]
  },
  {
   "cell_type": "code",
   "execution_count": 21,
   "metadata": {},
   "outputs": [],
   "source": [
    "mean_occp_ppd = np.mean(occp_ppd)\n",
    "std_occp_ppd = np.std(occp_ppd)\n",
    "total_energy = np.sum(valid_energy) * (timestep/60.0)\n",
    "mean_iat_notmet = np.mean(iat_stpt_diff)\n",
    "std_iat_notmet = np.std(iat_stpt_diff);"
   ]
  },
  {
   "cell_type": "code",
   "execution_count": 22,
   "metadata": {},
   "outputs": [
    {
     "name": "stdout",
     "output_type": "stream",
     "text": [
      "Total HVAC energy consumption is 45029 kHW, mean occupied PPD is 11.09%, std occupied PPD is 4.35%, mean IAT not met during unoccupied hour is 0.61, std IAT not met during unoccupied hour is 1.71.\n"
     ]
    }
   ],
   "source": [
    "print ('Total HVAC energy consumption is %d kHW, mean occupied PPD is %0.02f%%, std occupied PPD is %0.02f%%'\\\n",
    "       ', mean IAT not met during unoccupied hour is %0.02f, std IAT not met during unoccupied hour is %0.02f.'\n",
    "      %(total_energy, mean_occp_ppd, std_occp_ppd, mean_iat_notmet, std_iat_notmet))"
   ]
  },
  {
   "cell_type": "code",
   "execution_count": 11,
   "metadata": {},
   "outputs": [
    {
     "data": {
      "text/plain": [
       "(array([5641, 4891, 1846,  455,  196,   85,   87,   93,   25,    7]),\n",
       " array([  5.28402423,   9.32031022,  13.3565962 ,  17.39288219,\n",
       "         21.42916817,  25.46545416,  29.50174014,  33.53802613,\n",
       "         37.57431211,  41.6105981 ,  45.64688409]))"
      ]
     },
     "execution_count": 11,
     "metadata": {},
     "output_type": "execute_result"
    }
   ],
   "source": [
    "np.histogram(occp_ppd)"
   ]
  },
  {
   "cell_type": "code",
   "execution_count": null,
   "metadata": {
    "collapsed": true
   },
   "outputs": [],
   "source": []
  },
  {
   "cell_type": "code",
   "execution_count": null,
   "metadata": {
    "collapsed": true
   },
   "outputs": [],
   "source": []
  }
 ],
 "metadata": {
  "kernelspec": {
   "display_name": "Python 3",
   "language": "python",
   "name": "python3"
  },
  "language_info": {
   "codemirror_mode": {
    "name": "ipython",
    "version": 3
   },
   "file_extension": ".py",
   "mimetype": "text/x-python",
   "name": "python",
   "nbconvert_exporter": "python",
   "pygments_lexer": "ipython3",
   "version": "3.5.2"
  }
 },
 "nbformat": 4,
 "nbformat_minor": 2
}
