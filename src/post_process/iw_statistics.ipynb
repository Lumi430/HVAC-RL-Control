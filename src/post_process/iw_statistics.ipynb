{
 "cells": [
  {
   "cell_type": "code",
   "execution_count": 435,
   "metadata": {
    "collapsed": true
   },
   "outputs": [],
   "source": [
    "import pandas as pd\n",
    "import numpy as np\n",
    "#eplus_out_file = \"/home/zhiangz/Documents/HVAC-RL-Control/src/eplus-env/eplus_env/envs/eplus_models/iw_v96/learning/idf/realWeather_base_out/eplusout.csv\";\n",
    "eplus_out_file = '/home/zhiangz/Documents/HVAC-RL-Control/src/iw_ctrl_runs_v2/93/Eplus-env-IW-realWeather-v9701-res1/Eplus-env-sub_run14/output/eplusout.csv'\n",
    "#eplus_out_file = '~/Documents/HVAC-RL-Control/src/eplus-env/eplus_env/envs/eplus_models/iw_v96/learning/idf/realWeather_base_bas_out/eplusout.csv'\n",
    "eplus_out_file = '~/Dropbox/phd_bpd/rl_hvac_hist_res/iw_ctrl_runs/88/Eplus-env-IW-tmy3Weather-v9706-res1/Eplus-env-sub_run40/output/eplusout.csv'\n",
    "occupant_count_colname = 'EMS:IW Occupy Mode Flag [](TimeStep)'\n",
    "ppd_colname = 'EMS:IW Average PPD [%](TimeStep)'\n",
    "energy_colname = 'EMS:IW Calculated Heating Demand [KW](TimeStep)'\n",
    "stptbylogic_colname = 'EMS:IW Effective IAT Setpoint by Logics [C](TimeStep)'\n",
    "iat_colname = 'EMS:IW North Zone Average Temperature [C](TimeStep)'\n",
    "timestep = 5 # Minutes"
   ]
  },
  {
   "cell_type": "code",
   "execution_count": 436,
   "metadata": {
    "collapsed": true
   },
   "outputs": [],
   "source": [
    "def getFullColname(colnames, tgtname):\n",
    "    for colname in colnames:\n",
    "        if tgtname in colname:\n",
    "            return colname;"
   ]
  },
  {
   "cell_type": "code",
   "execution_count": 437,
   "metadata": {},
   "outputs": [],
   "source": [
    "df = pd.read_csv(eplus_out_file)\n",
    "df_colnames = list(df.columns.values)\n",
    "occupant_count_colname = getFullColname(df_colnames, occupant_count_colname)\n",
    "ppd_colname = getFullColname(df_colnames, ppd_colname)\n",
    "energy_colname = getFullColname(df_colnames, energy_colname)\n",
    "stptbylogic_colname = getFullColname(df_colnames, stptbylogic_colname)\n",
    "iat_colname = getFullColname(df_colnames, iat_colname);"
   ]
  },
  {
   "cell_type": "code",
   "execution_count": 438,
   "metadata": {
    "collapsed": true
   },
   "outputs": [],
   "source": [
    "occp_ppd = df[ppd_colname].loc[df[occupant_count_colname] > 0]\n",
    "valid_energy = df[energy_colname].loc[np.isnan(df[energy_colname]) != 1]\n",
    "iat_stpt_diff = df[iat_colname].loc[df[occupant_count_colname] == 0] - df[stptbylogic_colname].loc[df[occupant_count_colname] == 0]"
   ]
  },
  {
   "cell_type": "code",
   "execution_count": 439,
   "metadata": {
    "collapsed": true
   },
   "outputs": [],
   "source": [
    "mean_occp_ppd = np.mean(occp_ppd)\n",
    "std_occp_ppd = np.std(occp_ppd)\n",
    "total_energy = np.sum(valid_energy) * (timestep/60.0)\n",
    "mean_iat_notmet = np.mean(iat_stpt_diff)\n",
    "std_iat_notmet = np.std(iat_stpt_diff);"
   ]
  },
  {
   "cell_type": "code",
   "execution_count": 440,
   "metadata": {},
   "outputs": [
    {
     "name": "stdout",
     "output_type": "stream",
     "text": [
      "Total HVAC energy consumption is 42663 kHW, mean occupied PPD is 14.76%, std occupied PPD is 9.65%, mean IAT not met during unoccupied hour is -0.06, std IAT not met during unoccupied hour is 1.84.\n"
     ]
    }
   ],
   "source": [
    "print ('Total HVAC energy consumption is %d kHW, mean occupied PPD is %0.02f%%, std occupied PPD is %0.02f%%'\\\n",
    "       ', mean IAT not met during unoccupied hour is %0.02f, std IAT not met during unoccupied hour is %0.02f.'\n",
    "      %(total_energy, mean_occp_ppd, std_occp_ppd, mean_iat_notmet, std_iat_notmet))"
   ]
  },
  {
   "cell_type": "code",
   "execution_count": 441,
   "metadata": {},
   "outputs": [
    {
     "data": {
      "text/plain": [
       "(array([7201, 3289, 1175,  444,  195,  141,   42,   53,   38,   15]),\n",
       " array([  5.30048441,  13.05295117,  20.80541792,  28.55788468,\n",
       "         36.31035143,  44.06281819,  51.81528494,  59.5677517 ,\n",
       "         67.32021845,  75.07268521,  82.82515196]))"
      ]
     },
     "execution_count": 441,
     "metadata": {},
     "output_type": "execute_result"
    }
   ],
   "source": [
    "np.histogram(occp_ppd)"
   ]
  },
  {
   "cell_type": "code",
   "execution_count": null,
   "metadata": {
    "collapsed": true
   },
   "outputs": [],
   "source": []
  },
  {
   "cell_type": "code",
   "execution_count": null,
   "metadata": {
    "collapsed": true
   },
   "outputs": [],
   "source": []
  }
 ],
 "metadata": {
  "kernelspec": {
   "display_name": "Python 3",
   "language": "python",
   "name": "python3"
  },
  "language_info": {
   "codemirror_mode": {
    "name": "ipython",
    "version": 3
   },
   "file_extension": ".py",
   "mimetype": "text/x-python",
   "name": "python",
   "nbconvert_exporter": "python",
   "pygments_lexer": "ipython3",
   "version": "3.5.3"
  }
 },
 "nbformat": 4,
 "nbformat_minor": 2
}
