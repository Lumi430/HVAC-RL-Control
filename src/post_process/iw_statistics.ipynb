{
 "cells": [
  {
   "cell_type": "code",
   "execution_count": 33,
   "metadata": {},
   "outputs": [],
   "source": [
    "import pandas as pd\n",
    "import numpy as np\n",
    "#eplus_out_file = \"/home/zhiangz/Documents/HVAC-RL-Control/src/eplus-env/eplus_env/envs/eplus_models/iw_v96/learning/idf/tmy3Weather_base_res/eplusout.csv\";\n",
    "eplus_out_file = '/home/zhiangz/Documents/HVAC-RL-Control/src/iw_ctrl_runs_v2/2/Eplus-env-IW-tmy3Weather-v9601-res1/Eplus-env-sub_run41/output/eplusout.csv'\n",
    "occupant_count_colname = 'EMS:IW Occupy Mode Flag [](TimeStep)'\n",
    "ppd_colname = 'EMS:IW Average PPD [%](TimeStep)'\n",
    "energy_colname = 'EMS:IW Calculated Heating Demand [KW](TimeStep)'\n",
    "stptbylogic_colname = 'EMS:IW Effective IAT Setpoint by Logics [C](TimeStep)'\n",
    "iat_colname = 'EMS:IW North Zone Average Temperature [C](TimeStep)'\n",
    "timestep = 5 # Minutes"
   ]
  },
  {
   "cell_type": "code",
   "execution_count": 34,
   "metadata": {
    "collapsed": true
   },
   "outputs": [],
   "source": [
    "def getFullColname(colnames, tgtname):\n",
    "    for colname in colnames:\n",
    "        if tgtname in colname:\n",
    "            return colname;"
   ]
  },
  {
   "cell_type": "code",
   "execution_count": 35,
   "metadata": {
    "collapsed": true
   },
   "outputs": [],
   "source": [
    "df = pd.read_csv(eplus_out_file)\n",
    "df_colnames = list(df.columns.values)\n",
    "occupant_count_colname = getFullColname(df_colnames, occupant_count_colname)\n",
    "ppd_colname = getFullColname(df_colnames, ppd_colname)\n",
    "energy_colname = getFullColname(df_colnames, energy_colname)\n",
    "stptbylogic_colname = getFullColname(df_colnames, stptbylogic_colname)\n",
    "iat_colname = getFullColname(df_colnames, iat_colname);"
   ]
  },
  {
   "cell_type": "code",
   "execution_count": 36,
   "metadata": {
    "collapsed": true
   },
   "outputs": [],
   "source": [
    "occp_ppd = df[ppd_colname].loc[df[occupant_count_colname] > 0]\n",
    "valid_energy = df[energy_colname].loc[np.isnan(df[energy_colname]) != 1]\n",
    "iat_stpt_diff = df[iat_colname].loc[df[occupant_count_colname] == 0] - df[stptbylogic_colname].loc[df[occupant_count_colname] == 0]"
   ]
  },
  {
   "cell_type": "code",
   "execution_count": 37,
   "metadata": {},
   "outputs": [
    {
     "data": {
      "text/plain": [
       "0       -2.312008\n",
       "1       -2.312617\n",
       "2       -2.292174\n",
       "3       -2.237066\n",
       "4       -2.153899\n",
       "5       -2.067780\n",
       "6       -1.974564\n",
       "7       -1.906480\n",
       "8       -1.842952\n",
       "9       -1.785444\n",
       "10      -1.743778\n",
       "11      -1.689323\n",
       "12      -1.635143\n",
       "13      -1.590181\n",
       "14      -1.565536\n",
       "15      -1.540750\n",
       "16      -1.582561\n",
       "17      -1.662843\n",
       "18      -1.766081\n",
       "19      -1.794222\n",
       "20      -1.760440\n",
       "21      -1.709036\n",
       "22      -1.667411\n",
       "23      -1.639538\n",
       "24      -1.630174\n",
       "25      -1.638036\n",
       "26      -1.645020\n",
       "27      -1.659837\n",
       "28      -1.683092\n",
       "29      -1.696787\n",
       "           ...   \n",
       "25884    4.158021\n",
       "25885    4.151011\n",
       "25886    4.141110\n",
       "25887    4.128830\n",
       "25888    4.114984\n",
       "25889    4.100344\n",
       "25890    4.085413\n",
       "25891    4.075591\n",
       "25892    4.069327\n",
       "25893    4.064039\n",
       "25894    4.058251\n",
       "25895    4.051408\n",
       "25896    4.043524\n",
       "25897    4.028595\n",
       "25898    3.985953\n",
       "25899    3.941485\n",
       "25900    3.899274\n",
       "25901    3.860672\n",
       "25902    3.825183\n",
       "25903    3.792174\n",
       "25904    3.761538\n",
       "25905    3.733064\n",
       "25906    3.706443\n",
       "25907    3.681464\n",
       "25908    3.657838\n",
       "25909    3.635299\n",
       "25910    3.613623\n",
       "25911    3.592699\n",
       "25912    3.581224\n",
       "25913    3.574773\n",
       "Length: 12423, dtype: float64"
      ]
     },
     "execution_count": 37,
     "metadata": {},
     "output_type": "execute_result"
    }
   ],
   "source": [
    "iat_stpt_diff"
   ]
  },
  {
   "cell_type": "code",
   "execution_count": 38,
   "metadata": {
    "collapsed": true
   },
   "outputs": [],
   "source": [
    "mean_occp_ppd = np.mean(occp_ppd)\n",
    "std_occp_ppd = np.std(occp_ppd)\n",
    "total_energy = np.sum(valid_energy) * (timestep/60.0)\n",
    "mean_iat_notmet = np.mean(iat_stpt_diff)\n",
    "std_iat_notmet = np.std(iat_stpt_diff);"
   ]
  },
  {
   "cell_type": "code",
   "execution_count": 39,
   "metadata": {},
   "outputs": [
    {
     "name": "stdout",
     "output_type": "stream",
     "text": [
      "Total HVAC energy consumption is 45945 kHW, mean occupied PPD is 10.66%, std occupied PPD is 4.43%, mean IAT not met during unoccupied hour is 0.72, std IAT not met during unoccupied hour is 1.81.\n"
     ]
    }
   ],
   "source": [
    "print ('Total HVAC energy consumption is %d kHW, mean occupied PPD is %0.02f%%, std occupied PPD is %0.02f%%'\\\n",
    "       ', mean IAT not met during unoccupied hour is %0.02f, std IAT not met during unoccupied hour is %0.02f.'\n",
    "      %(total_energy, mean_occp_ppd, std_occp_ppd, mean_iat_notmet, std_iat_notmet))"
   ]
  },
  {
   "cell_type": "code",
   "execution_count": 24,
   "metadata": {},
   "outputs": [
    {
     "data": {
      "text/plain": [
       "(array([6332, 5393, 1485,  670,  407,  270,   88,   13,   10,    3]),\n",
       " array([  5.28309048,   8.94414799,  12.6052055 ,  16.26626301,\n",
       "         19.92732051,  23.58837802,  27.24943553,  30.91049303,\n",
       "         34.57155054,  38.23260805,  41.89366556]))"
      ]
     },
     "execution_count": 24,
     "metadata": {},
     "output_type": "execute_result"
    }
   ],
   "source": [
    "np.histogram(occp_ppd)"
   ]
  },
  {
   "cell_type": "code",
   "execution_count": null,
   "metadata": {
    "collapsed": true
   },
   "outputs": [],
   "source": []
  },
  {
   "cell_type": "code",
   "execution_count": null,
   "metadata": {
    "collapsed": true
   },
   "outputs": [],
   "source": []
  }
 ],
 "metadata": {
  "kernelspec": {
   "display_name": "Python 3",
   "language": "python",
   "name": "python3"
  },
  "language_info": {
   "codemirror_mode": {
    "name": "ipython",
    "version": 3
   },
   "file_extension": ".py",
   "mimetype": "text/x-python",
   "name": "python",
   "nbconvert_exporter": "python",
   "pygments_lexer": "ipython3",
   "version": "3.5.3"
  }
 },
 "nbformat": 4,
 "nbformat_minor": 2
}
