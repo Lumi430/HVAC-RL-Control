{
 "cells": [
  {
   "cell_type": "code",
   "execution_count": 23,
   "metadata": {},
   "outputs": [],
   "source": [
    "import pandas as pd\n",
    "import numpy as np\n",
    "#eplus_out_file = \"/home/zhiangz/Documents/HVAC-RL-Control/src/eplus-env/eplus_env/envs/eplus_models/iw_v96/learning/idf/tmy3Weather_base_res/eplusout.csv\";\n",
    "eplus_out_file = '/home/zhiangz/Documents/HVAC-RL-Control/src/iw_ctrl_runs_v2/8/Eplus-env-IW-tmy3Weather-v9606-res1/Eplus-env-sub_run41/output/eplusout.csv'\n",
    "occupant_count_colname = 'EMS:IW Occupy Mode Flag [](TimeStep)'\n",
    "ppd_colname = 'EMS:IW Average PPD [%](TimeStep)'\n",
    "energy_colname = 'EMS:IW Calculated Heating Demand [KW](TimeStep)'\n",
    "stptbylogic_colname = 'EMS:IW Effective IAT Setpoint by Logics [C](TimeStep)'\n",
    "iat_colname = 'EMS:IW North Zone Average Temperature [C](TimeStep)'\n",
    "timestep = 5 # Minutes"
   ]
  },
  {
   "cell_type": "code",
   "execution_count": 24,
   "metadata": {},
   "outputs": [],
   "source": [
    "def getFullColname(colnames, tgtname):\n",
    "    for colname in colnames:\n",
    "        if tgtname in colname:\n",
    "            return colname;"
   ]
  },
  {
   "cell_type": "code",
   "execution_count": 25,
   "metadata": {},
   "outputs": [],
   "source": [
    "df = pd.read_csv(eplus_out_file)\n",
    "df_colnames = list(df.columns.values)\n",
    "occupant_count_colname = getFullColname(df_colnames, occupant_count_colname)\n",
    "ppd_colname = getFullColname(df_colnames, ppd_colname)\n",
    "energy_colname = getFullColname(df_colnames, energy_colname)\n",
    "stptbylogic_colname = getFullColname(df_colnames, stptbylogic_colname)\n",
    "iat_colname = getFullColname(df_colnames, iat_colname);"
   ]
  },
  {
   "cell_type": "code",
   "execution_count": 26,
   "metadata": {},
   "outputs": [],
   "source": [
    "occp_ppd = df[ppd_colname].loc[df[occupant_count_colname] > 0]\n",
    "valid_energy = df[energy_colname].loc[np.isnan(df[energy_colname]) != 1]\n",
    "iat_stpt_diff = df[iat_colname].loc[df[occupant_count_colname] == 0] - df[stptbylogic_colname].loc[df[occupant_count_colname] == 0]"
   ]
  },
  {
   "cell_type": "code",
   "execution_count": 27,
   "metadata": {},
   "outputs": [
    {
     "data": {
      "text/plain": [
       "96       16.973427\n",
       "97       16.297877\n",
       "98       15.633604\n",
       "99       14.638931\n",
       "100      13.854029\n",
       "101      13.311148\n",
       "102      12.856539\n",
       "103      12.439564\n",
       "104      12.181292\n",
       "105      11.897373\n",
       "106      11.655163\n",
       "107      11.473950\n",
       "108      11.192839\n",
       "109      10.899109\n",
       "110      10.659052\n",
       "111      10.449007\n",
       "112      10.250943\n",
       "113      10.064023\n",
       "114       9.887329\n",
       "115       9.717574\n",
       "116      10.175932\n",
       "117      10.051287\n",
       "118       9.888839\n",
       "119       9.641519\n",
       "120       9.393934\n",
       "121       9.781344\n",
       "122       9.670787\n",
       "123       9.660618\n",
       "124      10.175129\n",
       "125      10.791765\n",
       "           ...    \n",
       "25842     8.627151\n",
       "25843     8.712924\n",
       "25844     8.804804\n",
       "25845     8.857247\n",
       "25846     8.889390\n",
       "25847     8.915297\n",
       "25848     8.908115\n",
       "25849     8.855341\n",
       "25850     8.783904\n",
       "25851     8.727753\n",
       "25852     8.666386\n",
       "25853     8.600252\n",
       "25854     8.521614\n",
       "25855     8.456321\n",
       "25856     8.415320\n",
       "25857     8.379723\n",
       "25858     8.347717\n",
       "25859     8.309448\n",
       "25860     8.257558\n",
       "25861     8.203104\n",
       "25862     8.154094\n",
       "25863     8.130606\n",
       "25864     8.099764\n",
       "25865     8.067501\n",
       "25866     8.034710\n",
       "25867     8.005190\n",
       "25868     7.971235\n",
       "25869     7.941951\n",
       "25870     7.910116\n",
       "25871     7.877366\n",
       "Name: EMS:IW Average PPD [%](TimeStep), Length: 13422, dtype: float64"
      ]
     },
     "execution_count": 27,
     "metadata": {},
     "output_type": "execute_result"
    }
   ],
   "source": [
    "occp_ppd"
   ]
  },
  {
   "cell_type": "code",
   "execution_count": 28,
   "metadata": {},
   "outputs": [],
   "source": [
    "mean_occp_ppd = np.mean(occp_ppd)\n",
    "std_occp_ppd = np.std(occp_ppd)\n",
    "total_energy = np.sum(valid_energy) * (timestep/60.0)\n",
    "mean_iat_notmet = np.mean(iat_stpt_diff)\n",
    "std_iat_notmet = np.std(iat_stpt_diff);"
   ]
  },
  {
   "cell_type": "code",
   "execution_count": 29,
   "metadata": {},
   "outputs": [
    {
     "name": "stdout",
     "output_type": "stream",
     "text": [
      "Total HVAC energy consumption is 50012 kHW, mean occupied PPD is 8.72%, std occupied PPD is 4.01%, mean IAT not met during unoccupied hour is 1.42, std IAT not met during unoccupied hour is 1.84.\n"
     ]
    }
   ],
   "source": [
    "print ('Total HVAC energy consumption is %d kHW, mean occupied PPD is %0.02f%%, std occupied PPD is %0.02f%%'\\\n",
    "       ', mean IAT not met during unoccupied hour is %0.02f, std IAT not met during unoccupied hour is %0.02f.'\n",
    "      %(total_energy, mean_occp_ppd, std_occp_ppd, mean_iat_notmet, std_iat_notmet))"
   ]
  },
  {
   "cell_type": "code",
   "execution_count": 11,
   "metadata": {},
   "outputs": [
    {
     "data": {
      "text/plain": [
       "(array([5641, 4891, 1846,  455,  196,   85,   87,   93,   25,    7]),\n",
       " array([  5.28402423,   9.32031022,  13.3565962 ,  17.39288219,\n",
       "         21.42916817,  25.46545416,  29.50174014,  33.53802613,\n",
       "         37.57431211,  41.6105981 ,  45.64688409]))"
      ]
     },
     "execution_count": 11,
     "metadata": {},
     "output_type": "execute_result"
    }
   ],
   "source": [
    "np.histogram(occp_ppd)"
   ]
  },
  {
   "cell_type": "code",
   "execution_count": null,
   "metadata": {
    "collapsed": true
   },
   "outputs": [],
   "source": []
  },
  {
   "cell_type": "code",
   "execution_count": null,
   "metadata": {
    "collapsed": true
   },
   "outputs": [],
   "source": []
  }
 ],
 "metadata": {
  "kernelspec": {
   "display_name": "Python 3",
   "language": "python",
   "name": "python3"
  },
  "language_info": {
   "codemirror_mode": {
    "name": "ipython",
    "version": 3
   },
   "file_extension": ".py",
   "mimetype": "text/x-python",
   "name": "python",
   "nbconvert_exporter": "python",
   "pygments_lexer": "ipython3",
   "version": "3.5.2"
  }
 },
 "nbformat": 4,
 "nbformat_minor": 2
}
