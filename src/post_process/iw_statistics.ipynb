{
 "cells": [
  {
   "cell_type": "code",
   "execution_count": 48,
   "metadata": {},
   "outputs": [],
   "source": [
    "import pandas as pd\n",
    "import numpy as np\n",
    "#eplus_out_file = \"/home/zhiangz/Documents/HVAC-RL-Control/src/eplus-env/eplus_env/envs/eplus_models/iw_v96/learning/idf/tmy3Weather_base_res/eplusout.csv\";\n",
    "eplus_out_file = '/home/zhiangz/Documents/HVAC-RL-Control/src/iw_ctrl_runs_v2/2/Eplus-env-IW-tmy3Weather-v9601-res1/Eplus-env-sub_run37/output/eplusout.csv'\n",
    "occupant_count_colname = 'EMS:IW Occupy Mode Flag [](TimeStep)'\n",
    "ppd_colname = 'EMS:IW Average PPD [%](TimeStep)'\n",
    "energy_colname = 'EMS:IW Calculated Heating Demand [KW](TimeStep)'\n",
    "stptbylogic_colname = 'EMS:IW Effective IAT Setpoint by Logics [C](TimeStep)'\n",
    "iat_colname = 'EMS:IW North Zone Average Temperature [C](TimeStep)'\n",
    "timestep = 5 # Minutes"
   ]
  },
  {
   "cell_type": "code",
   "execution_count": 49,
   "metadata": {
    "collapsed": true
   },
   "outputs": [],
   "source": [
    "def getFullColname(colnames, tgtname):\n",
    "    for colname in colnames:\n",
    "        if tgtname in colname:\n",
    "            return colname;"
   ]
  },
  {
   "cell_type": "code",
   "execution_count": 50,
   "metadata": {
    "collapsed": true
   },
   "outputs": [],
   "source": [
    "df = pd.read_csv(eplus_out_file)\n",
    "df_colnames = list(df.columns.values)\n",
    "occupant_count_colname = getFullColname(df_colnames, occupant_count_colname)\n",
    "ppd_colname = getFullColname(df_colnames, ppd_colname)\n",
    "energy_colname = getFullColname(df_colnames, energy_colname)\n",
    "stptbylogic_colname = getFullColname(df_colnames, stptbylogic_colname)\n",
    "iat_colname = getFullColname(df_colnames, iat_colname);"
   ]
  },
  {
   "cell_type": "code",
   "execution_count": 51,
   "metadata": {
    "collapsed": true
   },
   "outputs": [],
   "source": [
    "occp_ppd = df[ppd_colname].loc[df[occupant_count_colname] > 0]\n",
    "valid_energy = df[energy_colname].loc[np.isnan(df[energy_colname]) != 1]\n",
    "iat_stpt_diff = df[iat_colname].loc[df[occupant_count_colname] == 0] - df[stptbylogic_colname].loc[df[occupant_count_colname] == 0]"
   ]
  },
  {
   "cell_type": "code",
   "execution_count": 52,
   "metadata": {},
   "outputs": [
    {
     "data": {
      "text/plain": [
       "0       -2.312008\n",
       "1       -2.338468\n",
       "2       -2.383978\n",
       "3       -2.436839\n",
       "4       -2.488531\n",
       "5       -2.533802\n",
       "6       -2.570120\n",
       "7       -2.596711\n",
       "8       -2.616218\n",
       "9       -2.629706\n",
       "10      -2.598141\n",
       "11      -2.519742\n",
       "12      -2.394882\n",
       "13      -2.220874\n",
       "14      -2.084827\n",
       "15      -1.963451\n",
       "16      -1.881034\n",
       "17      -1.817199\n",
       "18      -1.767823\n",
       "19      -1.730408\n",
       "20      -1.701673\n",
       "21      -1.678966\n",
       "22      -1.669070\n",
       "23      -1.662676\n",
       "24      -1.655791\n",
       "25      -1.648240\n",
       "26      -1.632388\n",
       "27      -1.624631\n",
       "28      -1.620029\n",
       "29      -1.614992\n",
       "           ...   \n",
       "25889    4.785935\n",
       "25890    4.770325\n",
       "25891    4.754449\n",
       "25892    4.738624\n",
       "25893    4.722924\n",
       "25894    4.714541\n",
       "25895    4.710813\n",
       "25896    4.707904\n",
       "25897    4.693960\n",
       "25898    4.636293\n",
       "25899    4.579637\n",
       "25900    4.536428\n",
       "25901    4.500122\n",
       "25902    4.467867\n",
       "25903    4.445929\n",
       "25904    4.430561\n",
       "25905    4.417440\n",
       "25906    4.402545\n",
       "25907    4.383807\n",
       "25908    4.361902\n",
       "25909    4.338064\n",
       "25910    4.313386\n",
       "25911    4.288610\n",
       "25912    4.264211\n",
       "25913    4.240330\n",
       "25914    4.217040\n",
       "25915    4.194306\n",
       "25916    4.172065\n",
       "25917    4.150259\n",
       "25918    4.139394\n",
       "Length: 12575, dtype: float64"
      ]
     },
     "execution_count": 52,
     "metadata": {},
     "output_type": "execute_result"
    }
   ],
   "source": [
    "iat_stpt_diff"
   ]
  },
  {
   "cell_type": "code",
   "execution_count": 53,
   "metadata": {
    "collapsed": true
   },
   "outputs": [],
   "source": [
    "mean_occp_ppd = np.mean(occp_ppd)\n",
    "std_occp_ppd = np.std(occp_ppd)\n",
    "total_energy = np.sum(valid_energy) * (timestep/60.0)\n",
    "mean_iat_notmet = np.mean(iat_stpt_diff)\n",
    "std_iat_notmet = np.std(iat_stpt_diff);"
   ]
  },
  {
   "cell_type": "code",
   "execution_count": 54,
   "metadata": {},
   "outputs": [
    {
     "name": "stdout",
     "output_type": "stream",
     "text": [
      "Total HVAC energy consumption is 50707 kHW, mean occupied PPD is 7.65%, std occupied PPD is 3.96%, mean IAT not met during unoccupied hour is 1.90, std IAT not met during unoccupied hour is 1.64.\n"
     ]
    }
   ],
   "source": [
    "print ('Total HVAC energy consumption is %d kHW, mean occupied PPD is %0.02f%%, std occupied PPD is %0.02f%%'\\\n",
    "       ', mean IAT not met during unoccupied hour is %0.02f, std IAT not met during unoccupied hour is %0.02f.'\n",
    "      %(total_energy, mean_occp_ppd, std_occp_ppd, mean_iat_notmet, std_iat_notmet))"
   ]
  },
  {
   "cell_type": "code",
   "execution_count": 47,
   "metadata": {},
   "outputs": [
    {
     "data": {
      "text/plain": [
       "(array([6015, 4694, 1865,  530,  168,  129,   68,   13,    6,    3]),\n",
       " array([  5.27060861,   9.28433289,  13.29805717,  17.31178146,\n",
       "         21.32550574,  25.33923002,  29.3529543 ,  33.36667859,\n",
       "         37.38040287,  41.39412715,  45.40785143]))"
      ]
     },
     "execution_count": 47,
     "metadata": {},
     "output_type": "execute_result"
    }
   ],
   "source": [
    "np.histogram(occp_ppd)"
   ]
  },
  {
   "cell_type": "code",
   "execution_count": null,
   "metadata": {
    "collapsed": true
   },
   "outputs": [],
   "source": []
  },
  {
   "cell_type": "code",
   "execution_count": null,
   "metadata": {
    "collapsed": true
   },
   "outputs": [],
   "source": []
  }
 ],
 "metadata": {
  "kernelspec": {
   "display_name": "Python 3",
   "language": "python",
   "name": "python3"
  },
  "language_info": {
   "codemirror_mode": {
    "name": "ipython",
    "version": 3
   },
   "file_extension": ".py",
   "mimetype": "text/x-python",
   "name": "python",
   "nbconvert_exporter": "python",
   "pygments_lexer": "ipython3",
   "version": "3.5.3"
  }
 },
 "nbformat": 4,
 "nbformat_minor": 2
}
