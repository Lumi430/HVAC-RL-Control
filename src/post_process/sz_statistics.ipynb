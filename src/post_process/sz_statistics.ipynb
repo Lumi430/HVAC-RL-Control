{
 "cells": [
  {
   "cell_type": "code",
   "execution_count": 411,
   "metadata": {
    "collapsed": true
   },
   "outputs": [],
   "source": [
    "import pandas as pd\n",
    "import numpy as np\n",
    "eplus_out_file = \"~/Documents/HVAC-RL-Control/src/a3c-res-v0.1/case/v1-eval-mz-21.1-23.9.csv\"\n",
    "occupant_count_colname = 'SPACE5-1:Zone People Occupant Count'\n",
    "ppd_colname = 'SPACE5-1 PEOPLE 1:Zone Thermal Comfort Fanger Model PPD'\n",
    "energy_colname = 'Whole Building:Facility Total HVAC Electric Demand Power'\n",
    "timestep = 5 # Minutes"
   ]
  },
  {
   "cell_type": "code",
   "execution_count": 412,
   "metadata": {
    "collapsed": true
   },
   "outputs": [],
   "source": [
    "def getFullColname(colnames, tgtname):\n",
    "    for colname in colnames:\n",
    "        if tgtname in colname:\n",
    "            return colname;"
   ]
  },
  {
   "cell_type": "code",
   "execution_count": 413,
   "metadata": {},
   "outputs": [],
   "source": [
    "df = pd.read_csv(eplus_out_file)\n",
    "df_colnames = list(df.columns.values)\n",
    "occupant_count_colname = getFullColname(df_colnames, occupant_count_colname)\n",
    "ppd_colname = getFullColname(df_colnames, ppd_colname)\n",
    "energy_colname = getFullColname(df_colnames, energy_colname)"
   ]
  },
  {
   "cell_type": "code",
   "execution_count": 414,
   "metadata": {},
   "outputs": [],
   "source": [
    "occp_ppd = df[ppd_colname].loc[df[occupant_count_colname] > 0]\n",
    "valid_energy = df[energy_colname].loc[np.isnan(df[energy_colname]) != 1]"
   ]
  },
  {
   "cell_type": "code",
   "execution_count": 415,
   "metadata": {
    "collapsed": true
   },
   "outputs": [],
   "source": [
    "mean_occp_ppd = np.mean(occp_ppd)\n",
    "std_occp_ppd = np.std(occp_ppd)\n",
    "total_energy = np.sum(valid_energy) * (timestep/60.0) / 1000.0"
   ]
  },
  {
   "cell_type": "code",
   "execution_count": 416,
   "metadata": {},
   "outputs": [
    {
     "name": "stdout",
     "output_type": "stream",
     "text": [
      "Total HVAC energy consumption is 5277 kHW, mean occupied PPD is 8.07%, std occupied PPD is 7.01%\n"
     ]
    }
   ],
   "source": [
    "print ('Total HVAC energy consumption is %d kHW, mean occupied PPD is %0.02f%%, std occupied PPD is %0.02f%%'\\\n",
    "      %(total_energy, mean_occp_ppd, std_occp_ppd))"
   ]
  },
  {
   "cell_type": "code",
   "execution_count": null,
   "metadata": {
    "collapsed": true
   },
   "outputs": [],
   "source": []
  },
  {
   "cell_type": "code",
   "execution_count": null,
   "metadata": {
    "collapsed": true
   },
   "outputs": [],
   "source": []
  }
 ],
 "metadata": {
  "kernelspec": {
   "display_name": "Python 3",
   "language": "python",
   "name": "python3"
  },
  "language_info": {
   "codemirror_mode": {
    "name": "ipython",
    "version": 3
   },
   "file_extension": ".py",
   "mimetype": "text/x-python",
   "name": "python",
   "nbconvert_exporter": "python",
   "pygments_lexer": "ipython3",
   "version": "3.5.3"
  }
 },
 "nbformat": 4,
 "nbformat_minor": 2
}
