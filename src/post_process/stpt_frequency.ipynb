{
 "cells": [
  {
   "cell_type": "code",
   "execution_count": 27,
   "metadata": {},
   "outputs": [],
   "source": [
    "import pandas as pd\n",
    "import numpy as np\n",
    "import matplotlib.pyplot as plt\n",
    "import matplotlib\n",
    "import PyQt5\n",
    "\n",
    "eplus_out_file = \"~/Documents/HVAC-RL-Control/src/a3c-res-v0.1/case20-2/train_out.csv\"\n",
    "tgt_stpt_name = 'SPACE1-1:Zone Thermostat Heating Setpoint';\n",
    "cutoff_time = 21;\n",
    "turnon_time = 6;"
   ]
  },
  {
   "cell_type": "code",
   "execution_count": 28,
   "metadata": {
    "collapsed": true
   },
   "outputs": [],
   "source": [
    "def getFullColname(colnames, tgtname):\n",
    "    for colname in colnames:\n",
    "        if tgtname in colname:\n",
    "            return colname;"
   ]
  },
  {
   "cell_type": "code",
   "execution_count": 29,
   "metadata": {
    "collapsed": true
   },
   "outputs": [],
   "source": [
    "df = pd.read_csv(eplus_out_file)\n",
    "df_colnames = list(df.columns.values)\n",
    "tgt_stpt_name = getFullColname(df_colnames, tgt_stpt_name)"
   ]
  },
  {
   "cell_type": "code",
   "execution_count": 30,
   "metadata": {
    "collapsed": true
   },
   "outputs": [],
   "source": [
    "df['Hour'] = pd.to_numeric(df['Date/Time'].str.split().str.get(1).str.slice(0, 2))\n"
   ]
  },
  {
   "cell_type": "code",
   "execution_count": 31,
   "metadata": {
    "collapsed": true
   },
   "outputs": [],
   "source": [
    "tgt_stpt_series = df[tgt_stpt_name].loc[(df['Hour'] >= cutoff_time) | (df['Hour'] <= turnon_time)]"
   ]
  },
  {
   "cell_type": "code",
   "execution_count": 32,
   "metadata": {},
   "outputs": [
    {
     "data": {
      "text/plain": [
       "15.0    7675\n",
       "16.0    1580\n",
       "17.0     534\n",
       "18.0     276\n",
       "19.0     185\n",
       "20.0     142\n",
       "21.0     115\n",
       "22.0     112\n",
       "23.0      95\n",
       "24.0      51\n",
       "25.0      29\n",
       "26.0       6\n",
       "Name: SPACE1-1:Zone Thermostat Heating Setpoint Temperature [C](TimeStep), dtype: int64"
      ]
     },
     "execution_count": 32,
     "metadata": {},
     "output_type": "execute_result"
    }
   ],
   "source": [
    "tgt_stpt_series.value_counts()"
   ]
  },
  {
   "cell_type": "code",
   "execution_count": 33,
   "metadata": {},
   "outputs": [
    {
     "data": {
      "text/plain": [
       "array([[  1.50000000e+01,   1.60000000e+01,   1.70000000e+01,\n",
       "          1.80000000e+01,   1.90000000e+01,   2.00000000e+01,\n",
       "          2.10000000e+01,   2.20000000e+01,   2.30000000e+01,\n",
       "          2.40000000e+01,   2.50000000e+01,   2.60000000e+01,\n",
       "          2.70000000e+01,   2.80000000e+01,   2.90000000e+01,\n",
       "          3.00000000e+01],\n",
       "       [  7.67500000e+03,   1.58000000e+03,   5.34000000e+02,\n",
       "          2.76000000e+02,   1.85000000e+02,   1.42000000e+02,\n",
       "          1.15000000e+02,   1.12000000e+02,   9.50000000e+01,\n",
       "          5.10000000e+01,   2.90000000e+01,   6.00000000e+00,\n",
       "          0.00000000e+00,   0.00000000e+00,   0.00000000e+00,\n",
       "          0.00000000e+00]])"
      ]
     },
     "execution_count": 33,
     "metadata": {},
     "output_type": "execute_result"
    }
   ],
   "source": [
    "stpt_frequency_array = tgt_stpt_series.value_counts().as_matrix().reshape(1, -1)\n",
    "stpt_frequency_array = np.append(tgt_stpt_series.value_counts().index.values.reshape(1, -1),\n",
    "                                 stpt_frequency_array, 0).tolist()\n",
    "\n",
    "for stpt in range(15, 31):\n",
    "    if stpt not in stpt_frequency_array[0]:\n",
    "        stpt_frequency_array[0].append(stpt);\n",
    "        stpt_frequency_array[1].append(0);\n",
    "stpt_frequency_array = np.array(stpt_frequency_array);\n",
    "stpt_frequency_array"
   ]
  },
  {
   "cell_type": "code",
   "execution_count": 34,
   "metadata": {
    "collapsed": true
   },
   "outputs": [],
   "source": [
    "def autolabel(rects):\n",
    "    \"\"\"\n",
    "    Attach a text label above each bar displaying its height\n",
    "    \"\"\"\n",
    "    for rect in rects:\n",
    "        height = rect.get_height()\n",
    "        ax.text(rect.get_x() + rect.get_width()/2., 1.0*height,\n",
    "                '%d' % int(height),\n",
    "                ha='center', va='bottom')"
   ]
  },
  {
   "cell_type": "code",
   "execution_count": 35,
   "metadata": {},
   "outputs": [],
   "source": [
    "fig, ax = plt.subplots()\n",
    "fig.set_size_inches(14, 10)\n",
    "font = {'family' : 'normal',\n",
    "        'weight' : 'normal',\n",
    "        'size'   : 16}\n",
    "\n",
    "matplotlib.rc('font', **font)\n",
    "freq_plot = plt.bar(stpt_frequency_array[0, :], stpt_frequency_array[1, :])"
   ]
  },
  {
   "cell_type": "code",
   "execution_count": 36,
   "metadata": {},
   "outputs": [
    {
     "name": "stderr",
     "output_type": "stream",
     "text": [
      "/home/zhiangz/Documents/HVAC-RL-Control/src/virt_env/lib/python3.5/site-packages/matplotlib/font_manager.py:1297: UserWarning: findfont: Font family ['normal'] not found. Falling back to DejaVu Sans\n",
      "  (prop.get_family(), self.defaultFamily[fontext]))\n"
     ]
    },
    {
     "data": {
      "image/png": "[encoded data removed]",
      "text/plain": [
       "<matplotlib.figure.Figure at 0x7fe381445550>"
      ]
     },
     "metadata": {},
     "output_type": "display_data"
    }
   ],
   "source": [
    "autolabel(freq_plot)\n",
    "ax.set_ylabel('Count')\n",
    "plt.xticks(np.arange(15, 31, 1.0))\n",
    "ax.set_xlabel('Heating Setpoint')\n",
    "ax.set_title('Heating Setpoint Value Count of Zone1 During 21:00~06:00')\n",
    "plt.show()"
   ]
  },
  {
   "cell_type": "code",
   "execution_count": null,
   "metadata": {
    "collapsed": true
   },
   "outputs": [],
   "source": []
  },
  {
   "cell_type": "code",
   "execution_count": null,
   "metadata": {
    "collapsed": true
   },
   "outputs": [],
   "source": []
  }
 ],
 "metadata": {
  "kernelspec": {
   "display_name": "Python 3",
   "language": "python",
   "name": "python3"
  },
  "language_info": {
   "codemirror_mode": {
    "name": "ipython",
    "version": 3
   },
   "file_extension": ".py",
   "mimetype": "text/x-python",
   "name": "python",
   "nbconvert_exporter": "python",
   "pygments_lexer": "ipython3",
   "version": "3.5.3"
  }
 },
 "nbformat": 4,
 "nbformat_minor": 2
}
